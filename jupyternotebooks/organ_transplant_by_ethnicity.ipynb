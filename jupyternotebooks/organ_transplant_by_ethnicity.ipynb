{
 "cells": [
  {
   "cell_type": "code",
   "execution_count": 398,
   "id": "motivated-mirror",
   "metadata": {},
   "outputs": [],
   "source": [
    "import pandas as pd\n",
    "import matplotlib.pyplot as plt\n",
    "import seaborn as sns"
   ]
  },
  {
   "cell_type": "code",
   "execution_count": 399,
   "id": "color-charter",
   "metadata": {
    "scrolled": true
   },
   "outputs": [
    {
     "data": {
      "text/html": [
       "<div>\n",
       "<style scoped>\n",
       "    .dataframe tbody tr th:only-of-type {\n",
       "        vertical-align: middle;\n",
       "    }\n",
       "\n",
       "    .dataframe tbody tr th {\n",
       "        vertical-align: top;\n",
       "    }\n",
       "\n",
       "    .dataframe thead th {\n",
       "        text-align: right;\n",
       "    }\n",
       "</style>\n",
       "<table border=\"1\" class=\"dataframe\">\n",
       "  <thead>\n",
       "    <tr style=\"text-align: right;\">\n",
       "      <th></th>\n",
       "      <th>Unnamed: 0</th>\n",
       "      <th>Unnamed: 1</th>\n",
       "      <th>All Ethnicities</th>\n",
       "      <th>White</th>\n",
       "      <th>Black</th>\n",
       "      <th>Hispanic</th>\n",
       "      <th>Unknown</th>\n",
       "      <th>Asian</th>\n",
       "      <th>American Indian/Alaska Native</th>\n",
       "      <th>Pacific Islander</th>\n",
       "      <th>Multiracial</th>\n",
       "    </tr>\n",
       "  </thead>\n",
       "  <tbody>\n",
       "    <tr>\n",
       "      <th>0</th>\n",
       "      <td>All Organs</td>\n",
       "      <td>NaN</td>\n",
       "      <td>846,715</td>\n",
       "      <td>527,189</td>\n",
       "      <td>161,473</td>\n",
       "      <td>108,120</td>\n",
       "      <td>215</td>\n",
       "      <td>35,743</td>\n",
       "      <td>6,077</td>\n",
       "      <td>2,665</td>\n",
       "      <td>5,233</td>\n",
       "    </tr>\n",
       "    <tr>\n",
       "      <th>1</th>\n",
       "      <td>Kidney</td>\n",
       "      <td>NaN</td>\n",
       "      <td>498,372</td>\n",
       "      <td>271,416</td>\n",
       "      <td>121,559</td>\n",
       "      <td>70,767</td>\n",
       "      <td>28</td>\n",
       "      <td>24,982</td>\n",
       "      <td>4,305</td>\n",
       "      <td>1,962</td>\n",
       "      <td>3,353</td>\n",
       "    </tr>\n",
       "    <tr>\n",
       "      <th>2</th>\n",
       "      <td>Liver</td>\n",
       "      <td>NaN</td>\n",
       "      <td>184,227</td>\n",
       "      <td>132,240</td>\n",
       "      <td>17,079</td>\n",
       "      <td>24,723</td>\n",
       "      <td>81</td>\n",
       "      <td>7,476</td>\n",
       "      <td>1,162</td>\n",
       "      <td>359</td>\n",
       "      <td>1,107</td>\n",
       "    </tr>\n",
       "    <tr>\n",
       "      <th>3</th>\n",
       "      <td>Pancreas</td>\n",
       "      <td>NaN</td>\n",
       "      <td>9,067</td>\n",
       "      <td>7,722</td>\n",
       "      <td>670</td>\n",
       "      <td>534</td>\n",
       "      <td>3</td>\n",
       "      <td>60</td>\n",
       "      <td>48</td>\n",
       "      <td>7</td>\n",
       "      <td>23</td>\n",
       "    </tr>\n",
       "    <tr>\n",
       "      <th>4</th>\n",
       "      <td>Kidney / Pancreas</td>\n",
       "      <td>NaN</td>\n",
       "      <td>25,658</td>\n",
       "      <td>18,550</td>\n",
       "      <td>4,142</td>\n",
       "      <td>2,318</td>\n",
       "      <td>4</td>\n",
       "      <td>368</td>\n",
       "      <td>107</td>\n",
       "      <td>62</td>\n",
       "      <td>107</td>\n",
       "    </tr>\n",
       "    <tr>\n",
       "      <th>5</th>\n",
       "      <td>Heart</td>\n",
       "      <td>NaN</td>\n",
       "      <td>80,487</td>\n",
       "      <td>57,134</td>\n",
       "      <td>13,800</td>\n",
       "      <td>6,454</td>\n",
       "      <td>38</td>\n",
       "      <td>2,066</td>\n",
       "      <td>282</td>\n",
       "      <td>228</td>\n",
       "      <td>485</td>\n",
       "    </tr>\n",
       "    <tr>\n",
       "      <th>6</th>\n",
       "      <td>Lung</td>\n",
       "      <td>NaN</td>\n",
       "      <td>44,212</td>\n",
       "      <td>36,852</td>\n",
       "      <td>3,584</td>\n",
       "      <td>2,779</td>\n",
       "      <td>6</td>\n",
       "      <td>682</td>\n",
       "      <td>146</td>\n",
       "      <td>34</td>\n",
       "      <td>129</td>\n",
       "    </tr>\n",
       "    <tr>\n",
       "      <th>7</th>\n",
       "      <td>Heart / Lung</td>\n",
       "      <td>NaN</td>\n",
       "      <td>1,371</td>\n",
       "      <td>1,043</td>\n",
       "      <td>134</td>\n",
       "      <td>126</td>\n",
       "      <td>5</td>\n",
       "      <td>47</td>\n",
       "      <td>8</td>\n",
       "      <td>2</td>\n",
       "      <td>6</td>\n",
       "    </tr>\n",
       "    <tr>\n",
       "      <th>8</th>\n",
       "      <td>Intestine</td>\n",
       "      <td>NaN</td>\n",
       "      <td>3,210</td>\n",
       "      <td>2,181</td>\n",
       "      <td>501</td>\n",
       "      <td>417</td>\n",
       "      <td>0</td>\n",
       "      <td>60</td>\n",
       "      <td>19</td>\n",
       "      <td>10</td>\n",
       "      <td>22</td>\n",
       "    </tr>\n",
       "    <tr>\n",
       "      <th>9</th>\n",
       "      <td>Abdominal Wall</td>\n",
       "      <td>NaN</td>\n",
       "      <td>20</td>\n",
       "      <td>0</td>\n",
       "      <td>1</td>\n",
       "      <td>0</td>\n",
       "      <td>18</td>\n",
       "      <td>0</td>\n",
       "      <td>0</td>\n",
       "      <td>1</td>\n",
       "      <td>0</td>\n",
       "    </tr>\n",
       "    <tr>\n",
       "      <th>10</th>\n",
       "      <td>Head &amp; Neck: Craniofacial</td>\n",
       "      <td>NaN</td>\n",
       "      <td>18</td>\n",
       "      <td>9</td>\n",
       "      <td>1</td>\n",
       "      <td>0</td>\n",
       "      <td>8</td>\n",
       "      <td>0</td>\n",
       "      <td>0</td>\n",
       "      <td>0</td>\n",
       "      <td>0</td>\n",
       "    </tr>\n",
       "    <tr>\n",
       "      <th>11</th>\n",
       "      <td>Head &amp; Neck: Scalp</td>\n",
       "      <td>NaN</td>\n",
       "      <td>1</td>\n",
       "      <td>1</td>\n",
       "      <td>0</td>\n",
       "      <td>0</td>\n",
       "      <td>0</td>\n",
       "      <td>0</td>\n",
       "      <td>0</td>\n",
       "      <td>0</td>\n",
       "      <td>0</td>\n",
       "    </tr>\n",
       "    <tr>\n",
       "      <th>12</th>\n",
       "      <td>Head &amp; Neck: Larynx</td>\n",
       "      <td>NaN</td>\n",
       "      <td>2</td>\n",
       "      <td>0</td>\n",
       "      <td>0</td>\n",
       "      <td>0</td>\n",
       "      <td>2</td>\n",
       "      <td>0</td>\n",
       "      <td>0</td>\n",
       "      <td>0</td>\n",
       "      <td>0</td>\n",
       "    </tr>\n",
       "    <tr>\n",
       "      <th>13</th>\n",
       "      <td>GU: Penile</td>\n",
       "      <td>NaN</td>\n",
       "      <td>2</td>\n",
       "      <td>2</td>\n",
       "      <td>0</td>\n",
       "      <td>0</td>\n",
       "      <td>0</td>\n",
       "      <td>0</td>\n",
       "      <td>0</td>\n",
       "      <td>0</td>\n",
       "      <td>0</td>\n",
       "    </tr>\n",
       "    <tr>\n",
       "      <th>14</th>\n",
       "      <td>GU: Uterus</td>\n",
       "      <td>NaN</td>\n",
       "      <td>31</td>\n",
       "      <td>27</td>\n",
       "      <td>1</td>\n",
       "      <td>0</td>\n",
       "      <td>0</td>\n",
       "      <td>2</td>\n",
       "      <td>0</td>\n",
       "      <td>0</td>\n",
       "      <td>1</td>\n",
       "    </tr>\n",
       "    <tr>\n",
       "      <th>15</th>\n",
       "      <td>Upper Limb: Bilateral</td>\n",
       "      <td>NaN</td>\n",
       "      <td>18</td>\n",
       "      <td>8</td>\n",
       "      <td>1</td>\n",
       "      <td>0</td>\n",
       "      <td>9</td>\n",
       "      <td>0</td>\n",
       "      <td>0</td>\n",
       "      <td>0</td>\n",
       "      <td>0</td>\n",
       "    </tr>\n",
       "    <tr>\n",
       "      <th>16</th>\n",
       "      <td>Upper Limb: Unilateral</td>\n",
       "      <td>NaN</td>\n",
       "      <td>18</td>\n",
       "      <td>4</td>\n",
       "      <td>0</td>\n",
       "      <td>1</td>\n",
       "      <td>13</td>\n",
       "      <td>0</td>\n",
       "      <td>0</td>\n",
       "      <td>0</td>\n",
       "      <td>0</td>\n",
       "    </tr>\n",
       "    <tr>\n",
       "      <th>17</th>\n",
       "      <td>Trachea</td>\n",
       "      <td>NaN</td>\n",
       "      <td>1</td>\n",
       "      <td>0</td>\n",
       "      <td>0</td>\n",
       "      <td>1</td>\n",
       "      <td>0</td>\n",
       "      <td>0</td>\n",
       "      <td>0</td>\n",
       "      <td>0</td>\n",
       "      <td>0</td>\n",
       "    </tr>\n",
       "  </tbody>\n",
       "</table>\n",
       "</div>"
      ],
      "text/plain": [
       "                   Unnamed: 0  Unnamed: 1 All Ethnicities    White    Black  \\\n",
       "0                  All Organs         NaN         846,715  527,189  161,473   \n",
       "1                      Kidney         NaN         498,372  271,416  121,559   \n",
       "2                       Liver         NaN         184,227  132,240   17,079   \n",
       "3                    Pancreas         NaN           9,067    7,722      670   \n",
       "4           Kidney / Pancreas         NaN          25,658   18,550    4,142   \n",
       "5                       Heart         NaN          80,487   57,134   13,800   \n",
       "6                        Lung         NaN          44,212   36,852    3,584   \n",
       "7                Heart / Lung         NaN           1,371    1,043      134   \n",
       "8                   Intestine         NaN           3,210    2,181      501   \n",
       "9              Abdominal Wall         NaN              20        0        1   \n",
       "10  Head & Neck: Craniofacial         NaN              18        9        1   \n",
       "11         Head & Neck: Scalp         NaN               1        1        0   \n",
       "12        Head & Neck: Larynx         NaN               2        0        0   \n",
       "13                 GU: Penile         NaN               2        2        0   \n",
       "14                 GU: Uterus         NaN              31       27        1   \n",
       "15      Upper Limb: Bilateral         NaN              18        8        1   \n",
       "16     Upper Limb: Unilateral         NaN              18        4        0   \n",
       "17                    Trachea         NaN               1        0        0   \n",
       "\n",
       "   Hispanic  Unknown   Asian American Indian/Alaska Native Pacific Islander  \\\n",
       "0   108,120      215  35,743                         6,077            2,665   \n",
       "1    70,767       28  24,982                         4,305            1,962   \n",
       "2    24,723       81   7,476                         1,162              359   \n",
       "3       534        3      60                            48                7   \n",
       "4     2,318        4     368                           107               62   \n",
       "5     6,454       38   2,066                           282              228   \n",
       "6     2,779        6     682                           146               34   \n",
       "7       126        5      47                             8                2   \n",
       "8       417        0      60                            19               10   \n",
       "9         0       18       0                             0                1   \n",
       "10        0        8       0                             0                0   \n",
       "11        0        0       0                             0                0   \n",
       "12        0        2       0                             0                0   \n",
       "13        0        0       0                             0                0   \n",
       "14        0        0       2                             0                0   \n",
       "15        0        9       0                             0                0   \n",
       "16        1       13       0                             0                0   \n",
       "17        1        0       0                             0                0   \n",
       "\n",
       "   Multiracial  \n",
       "0        5,233  \n",
       "1        3,353  \n",
       "2        1,107  \n",
       "3           23  \n",
       "4          107  \n",
       "5          485  \n",
       "6          129  \n",
       "7            6  \n",
       "8           22  \n",
       "9            0  \n",
       "10           0  \n",
       "11           0  \n",
       "12           0  \n",
       "13           0  \n",
       "14           1  \n",
       "15           0  \n",
       "16           0  \n",
       "17           0  "
      ]
     },
     "execution_count": 399,
     "metadata": {},
     "output_type": "execute_result"
    }
   ],
   "source": [
    "df = pd.read_csv('/Users/guillermo/Downloads/Transplant___Recipient_Ethnicity_by_Organ.csv')\n",
    "df"
   ]
  },
  {
   "cell_type": "code",
   "execution_count": 400,
   "id": "therapeutic-passing",
   "metadata": {},
   "outputs": [
    {
     "data": {
      "text/plain": [
       "Organ              object\n",
       "All Ethnicities     int64\n",
       "White               int64\n",
       "Black               int64\n",
       "Hispanic            int64\n",
       "Asian               int64\n",
       "Multiracial         int64\n",
       "dtype: object"
      ]
     },
     "execution_count": 400,
     "metadata": {},
     "output_type": "execute_result"
    }
   ],
   "source": [
    "df.drop(['Unnamed: 1', 'Unknown', 'American Indian/Alaska Native', 'Pacific Islander'], axis=1, inplace = True)\n",
    "df.rename(columns={\"Unnamed: 0\": \"Organ\"}, inplace = True)\n",
    "df['White'] = df['White'].str.replace(',','').astype(int)\n",
    "df['Black'] = df['Black'].str.replace(',','').astype(int)\n",
    "df['Hispanic'] = df['Hispanic'].str.replace(',','').astype(int)\n",
    "df['Asian'] = df['Asian'].str.replace(',','').astype(int)\n",
    "df['Multiracial'] = df['Multiracial'].str.replace(',','').astype(int)\n",
    "df['All Ethnicities'] = df['All Ethnicities'].str.replace(',', '').astype(int)\n",
    "df.dtypes\n",
    "\n"
   ]
  },
  {
   "cell_type": "code",
   "execution_count": 401,
   "id": "stretch-collapse",
   "metadata": {
    "scrolled": true
   },
   "outputs": [
    {
     "name": "stderr",
     "output_type": "stream",
     "text": [
      "/Library/Frameworks/Python.framework/Versions/3.9/lib/python3.9/site-packages/pandas/core/frame.py:4308: SettingWithCopyWarning: \n",
      "A value is trying to be set on a copy of a slice from a DataFrame\n",
      "\n",
      "See the caveats in the documentation: https://pandas.pydata.org/pandas-docs/stable/user_guide/indexing.html#returning-a-view-versus-a-copy\n",
      "  return super().drop(\n"
     ]
    },
    {
     "data": {
      "text/html": [
       "<div>\n",
       "<style scoped>\n",
       "    .dataframe tbody tr th:only-of-type {\n",
       "        vertical-align: middle;\n",
       "    }\n",
       "\n",
       "    .dataframe tbody tr th {\n",
       "        vertical-align: top;\n",
       "    }\n",
       "\n",
       "    .dataframe thead th {\n",
       "        text-align: right;\n",
       "    }\n",
       "</style>\n",
       "<table border=\"1\" class=\"dataframe\">\n",
       "  <thead>\n",
       "    <tr style=\"text-align: right;\">\n",
       "      <th></th>\n",
       "      <th>Organ</th>\n",
       "      <th>All Ethnicities</th>\n",
       "      <th>White</th>\n",
       "      <th>Black</th>\n",
       "      <th>Hispanic</th>\n",
       "      <th>Asian</th>\n",
       "    </tr>\n",
       "  </thead>\n",
       "  <tbody>\n",
       "    <tr>\n",
       "      <th>0</th>\n",
       "      <td>All Organs</td>\n",
       "      <td>846715</td>\n",
       "      <td>527189</td>\n",
       "      <td>161473</td>\n",
       "      <td>108120</td>\n",
       "      <td>35743</td>\n",
       "    </tr>\n",
       "    <tr>\n",
       "      <th>1</th>\n",
       "      <td>Kidney</td>\n",
       "      <td>498372</td>\n",
       "      <td>271416</td>\n",
       "      <td>121559</td>\n",
       "      <td>70767</td>\n",
       "      <td>24982</td>\n",
       "    </tr>\n",
       "    <tr>\n",
       "      <th>2</th>\n",
       "      <td>Liver</td>\n",
       "      <td>184227</td>\n",
       "      <td>132240</td>\n",
       "      <td>17079</td>\n",
       "      <td>24723</td>\n",
       "      <td>7476</td>\n",
       "    </tr>\n",
       "    <tr>\n",
       "      <th>3</th>\n",
       "      <td>Pancreas</td>\n",
       "      <td>9067</td>\n",
       "      <td>7722</td>\n",
       "      <td>670</td>\n",
       "      <td>534</td>\n",
       "      <td>60</td>\n",
       "    </tr>\n",
       "    <tr>\n",
       "      <th>4</th>\n",
       "      <td>Kidney / Pancreas</td>\n",
       "      <td>25658</td>\n",
       "      <td>18550</td>\n",
       "      <td>4142</td>\n",
       "      <td>2318</td>\n",
       "      <td>368</td>\n",
       "    </tr>\n",
       "    <tr>\n",
       "      <th>5</th>\n",
       "      <td>Heart</td>\n",
       "      <td>80487</td>\n",
       "      <td>57134</td>\n",
       "      <td>13800</td>\n",
       "      <td>6454</td>\n",
       "      <td>2066</td>\n",
       "    </tr>\n",
       "    <tr>\n",
       "      <th>6</th>\n",
       "      <td>Lung</td>\n",
       "      <td>44212</td>\n",
       "      <td>36852</td>\n",
       "      <td>3584</td>\n",
       "      <td>2779</td>\n",
       "      <td>682</td>\n",
       "    </tr>\n",
       "  </tbody>\n",
       "</table>\n",
       "</div>"
      ],
      "text/plain": [
       "               Organ  All Ethnicities   White   Black  Hispanic  Asian\n",
       "0         All Organs           846715  527189  161473    108120  35743\n",
       "1             Kidney           498372  271416  121559     70767  24982\n",
       "2              Liver           184227  132240   17079     24723   7476\n",
       "3           Pancreas             9067    7722     670       534     60\n",
       "4  Kidney / Pancreas            25658   18550    4142      2318    368\n",
       "5              Heart            80487   57134   13800      6454   2066\n",
       "6               Lung            44212   36852    3584      2779    682"
      ]
     },
     "execution_count": 401,
     "metadata": {},
     "output_type": "execute_result"
    }
   ],
   "source": [
    "df2 = df[0:7]\n",
    "df2.drop(['Multiracial'], axis=1, inplace = True)\n",
    "df2"
   ]
  },
  {
   "cell_type": "code",
   "execution_count": 402,
   "id": "cordless-issue",
   "metadata": {
    "scrolled": true
   },
   "outputs": [
    {
     "data": {
      "text/plain": [
       "Organ              All Organs\n",
       "All Ethnicities           1.0\n",
       "White                0.819967\n",
       "Black                1.546259\n",
       "Hispanic              1.01344\n",
       "Asian                1.091734\n",
       "Name: 0, dtype: object"
      ]
     },
     "metadata": {},
     "output_type": "display_data"
    }
   ],
   "source": [
    "dfallorgans = df2.loc[0].copy()\n",
    "dfallorgans[columns] = dfallorgans[columns]/dfallorgans['All Ethnicities']\n",
    "dfallorgans['White'] = dfallorgans['White']/dfallorgans['All Ethnicities']\n",
    "dfallorgans['Black'] = dfallorgans['Black']/dfallorgans['All Ethnicities']\n",
    "dfallorgans['Hispanic'] = dfallorgans['Hispanic']/dfallorgans['All Ethnicities']\n",
    "dfallorgans['Asian'] = dfallorgans['Asian']/dfallorgans['All Ethnicities']\n",
    "dfallorgans['White'] = dfallorgans['White']/0.7593333333333333\n",
    "dfallorgans['Black'] = dfallorgans['Black']/0.12333333333333334\n",
    "dfallorgans['Hispanic'] = dfallorgans['Hispanic']/0.126\n",
    "dfallorgans['Asian'] = dfallorgans['Asian']/0.03866666666666667\n",
    "display(dfallorgans)"
   ]
  },
  {
   "cell_type": "markdown",
   "id": "eligible-daisy",
   "metadata": {},
   "source": [
    "# Bar graph of transplants received proportioned to ethnicity population"
   ]
  },
  {
   "cell_type": "code",
   "execution_count": 403,
   "id": "optical-problem",
   "metadata": {},
   "outputs": [
    {
     "data": {
      "image/png": "[encoded data removed]",
      "text/plain": [
       "<Figure size 432x288 with 1 Axes>"
      ]
     },
     "metadata": {},
     "output_type": "display_data"
    }
   ],
   "source": [
    "sns.set_theme(style=\"darkgrid\")\n",
    "ax = dfallorgans[columns].T.plot(kind = 'bar');\n",
    "plt.hlines(1, xmin = 0, xmax = 5)\n",
    "plt.legend(loc='upper right')\n",
    "ax.set(xlabel=\"Ethnicity\", ylabel = \"Overall Transplants Received\", title = 'Overall Transplant Rate Normalized to Overall Population');\n"
   ]
  },
  {
   "cell_type": "code",
   "execution_count": 404,
   "id": "going-shift",
   "metadata": {
    "scrolled": false
   },
   "outputs": [
    {
     "data": {
      "text/html": [
       "<div>\n",
       "<style scoped>\n",
       "    .dataframe tbody tr th:only-of-type {\n",
       "        vertical-align: middle;\n",
       "    }\n",
       "\n",
       "    .dataframe tbody tr th {\n",
       "        vertical-align: top;\n",
       "    }\n",
       "\n",
       "    .dataframe thead th {\n",
       "        text-align: right;\n",
       "    }\n",
       "</style>\n",
       "<table border=\"1\" class=\"dataframe\">\n",
       "  <thead>\n",
       "    <tr style=\"text-align: right;\">\n",
       "      <th></th>\n",
       "      <th>Organ</th>\n",
       "      <th>All Ethnicities</th>\n",
       "      <th>White</th>\n",
       "      <th>Black</th>\n",
       "      <th>Hispanic</th>\n",
       "      <th>Asian</th>\n",
       "    </tr>\n",
       "  </thead>\n",
       "  <tbody>\n",
       "    <tr>\n",
       "      <th>0</th>\n",
       "      <td>All Organs</td>\n",
       "      <td>1.0</td>\n",
       "      <td>0.622629</td>\n",
       "      <td>0.190705</td>\n",
       "      <td>0.127693</td>\n",
       "      <td>0.042214</td>\n",
       "    </tr>\n",
       "    <tr>\n",
       "      <th>1</th>\n",
       "      <td>Kidney</td>\n",
       "      <td>1.0</td>\n",
       "      <td>0.544605</td>\n",
       "      <td>0.243912</td>\n",
       "      <td>0.141996</td>\n",
       "      <td>0.050127</td>\n",
       "    </tr>\n",
       "    <tr>\n",
       "      <th>2</th>\n",
       "      <td>Liver</td>\n",
       "      <td>1.0</td>\n",
       "      <td>0.717810</td>\n",
       "      <td>0.092706</td>\n",
       "      <td>0.134199</td>\n",
       "      <td>0.040580</td>\n",
       "    </tr>\n",
       "    <tr>\n",
       "      <th>3</th>\n",
       "      <td>Pancreas</td>\n",
       "      <td>1.0</td>\n",
       "      <td>0.851660</td>\n",
       "      <td>0.073894</td>\n",
       "      <td>0.058895</td>\n",
       "      <td>0.006617</td>\n",
       "    </tr>\n",
       "    <tr>\n",
       "      <th>4</th>\n",
       "      <td>Kidney / Pancreas</td>\n",
       "      <td>1.0</td>\n",
       "      <td>0.722971</td>\n",
       "      <td>0.161431</td>\n",
       "      <td>0.090342</td>\n",
       "      <td>0.014343</td>\n",
       "    </tr>\n",
       "    <tr>\n",
       "      <th>5</th>\n",
       "      <td>Heart</td>\n",
       "      <td>1.0</td>\n",
       "      <td>0.709854</td>\n",
       "      <td>0.171456</td>\n",
       "      <td>0.080187</td>\n",
       "      <td>0.025669</td>\n",
       "    </tr>\n",
       "    <tr>\n",
       "      <th>6</th>\n",
       "      <td>Lung</td>\n",
       "      <td>1.0</td>\n",
       "      <td>0.833529</td>\n",
       "      <td>0.081064</td>\n",
       "      <td>0.062856</td>\n",
       "      <td>0.015426</td>\n",
       "    </tr>\n",
       "  </tbody>\n",
       "</table>\n",
       "</div>"
      ],
      "text/plain": [
       "               Organ  All Ethnicities     White     Black  Hispanic     Asian\n",
       "0         All Organs              1.0  0.622629  0.190705  0.127693  0.042214\n",
       "1             Kidney              1.0  0.544605  0.243912  0.141996  0.050127\n",
       "2              Liver              1.0  0.717810  0.092706  0.134199  0.040580\n",
       "3           Pancreas              1.0  0.851660  0.073894  0.058895  0.006617\n",
       "4  Kidney / Pancreas              1.0  0.722971  0.161431  0.090342  0.014343\n",
       "5              Heart              1.0  0.709854  0.171456  0.080187  0.025669\n",
       "6               Lung              1.0  0.833529  0.081064  0.062856  0.015426"
      ]
     },
     "metadata": {},
     "output_type": "display_data"
    }
   ],
   "source": [
    "'''\n",
    "Equation normalizing the amount of donations by each ethnicity to the overall donation amount\n",
    "'''\n",
    "df_max_scaled = df2.copy()\n",
    "columns = ['All Ethnicities', 'White', 'Black', 'Hispanic', 'Asian']\n",
    "df_max_scaled[columns] = df_max_scaled[columns].div(df_max_scaled['All Ethnicities'], axis = 0)\n",
    "display(df_max_scaled)\n",
    "\n"
   ]
  },
  {
   "cell_type": "markdown",
   "id": "southeast-brave",
   "metadata": {},
   "source": [
    "# Bar graph of Hispanic transplants in proportion to overall Hispanic population"
   ]
  },
  {
   "cell_type": "code",
   "execution_count": 405,
   "id": "cognitive-tribune",
   "metadata": {
    "scrolled": true
   },
   "outputs": [
    {
     "data": {
      "image/png": "[encoded data removed]",
      "text/plain": [
       "<Figure size 432x288 with 1 Axes>"
      ]
     },
     "metadata": {},
     "output_type": "display_data"
    }
   ],
   "source": [
    "sns.set_theme(style=\"darkgrid\")\n",
    "ax = df_max_scaled['Hispanic'].T.plot(kind = 'line');\n",
    "plt.hlines(.126, xmin = 0, xmax = 5)\n",
    "plt.legend(loc='upper right')\n",
    "ax.set(xlabel = ['All Organs', 'Kidney', 'Liver', 'Pancreas', 'Kidney/Pancreas', 'Heart'], ylabel = \"Transplants Received\", title = 'Transplant Rate Normalized to Hispanic Population');"
   ]
  },
  {
   "cell_type": "markdown",
   "id": "democratic-least",
   "metadata": {},
   "source": [
    "# Bar graph of Black transplants in proportion to overall Black population"
   ]
  },
  {
   "cell_type": "code",
   "execution_count": 406,
   "id": "experimental-signature",
   "metadata": {
    "scrolled": true
   },
   "outputs": [
    {
     "data": {
      "image/png": "[encoded data removed]",
      "text/plain": [
       "<Figure size 432x288 with 1 Axes>"
      ]
     },
     "metadata": {},
     "output_type": "display_data"
    }
   ],
   "source": [
    "ax = df_max_scaled['Black'].T.plot(kind = 'line');\n",
    "plt.hlines(0.12333333333333334, xmin = 0, xmax = 5)\n",
    "plt.legend(loc='upper right')\n",
    "ax.set(xlabel=\"Ethnicity\", ylabel = \"Transplants Received\", title = 'Transplant Rate Normalized to Black Population');\n",
    "\n"
   ]
  },
  {
   "cell_type": "markdown",
   "id": "false-battlefield",
   "metadata": {},
   "source": [
    "# Bar graph of White transplants in proportion to overall White population"
   ]
  },
  {
   "cell_type": "code",
   "execution_count": 407,
   "id": "thirty-victorian",
   "metadata": {
    "scrolled": true
   },
   "outputs": [
    {
     "data": {
      "image/png": "[encoded data removed]",
      "text/plain": [
       "<Figure size 432x288 with 1 Axes>"
      ]
     },
     "metadata": {},
     "output_type": "display_data"
    }
   ],
   "source": [
    "ax = df_max_scaled['White'].T.plot(kind = 'line');\n",
    "plt.hlines(0.7593333333333333, xmin = 0, xmax = 5)\n",
    "plt.legend(loc='upper right')\n",
    "ax.set(xlabel=\"Ethnicity\", ylabel = \"Transplants Received\", title = 'Transplant Rate Normalized to White Population');\n",
    "\n"
   ]
  },
  {
   "cell_type": "markdown",
   "id": "bibliographic-wellington",
   "metadata": {},
   "source": [
    "# Bar graph of Asian transplants in proportion to overall Asian population"
   ]
  },
  {
   "cell_type": "code",
   "execution_count": 408,
   "id": "polyphonic-carol",
   "metadata": {},
   "outputs": [
    {
     "data": {
      "image/png": "[encoded data removed]",
      "text/plain": [
       "<Figure size 432x288 with 1 Axes>"
      ]
     },
     "metadata": {},
     "output_type": "display_data"
    }
   ],
   "source": [
    "ax = df_max_scaled['Asian'].T.plot(kind = 'line');\n",
    "plt.hlines(0.03866666666666667, xmin = 0, xmax = 5)\n",
    "plt.legend(loc='upper right')\n",
    "ax.set(xlabel=\"Ethnicity\", ylabel = \"Transplants Received\", title = 'Transplant Rate Normalized to Asian Population');\n",
    "\n"
   ]
  },
  {
   "cell_type": "code",
   "execution_count": 443,
   "id": "requested-experiment",
   "metadata": {
    "scrolled": true
   },
   "outputs": [
    {
     "data": {
      "text/plain": [
       "Organ              All Organs\n",
       "All Ethnicities           1.0\n",
       "White                0.551956\n",
       "Black                0.332792\n",
       "Hispanic             0.477932\n",
       "Asian                0.296226\n",
       "Name: 0, dtype: object"
      ]
     },
     "execution_count": 443,
     "metadata": {},
     "output_type": "execute_result"
    }
   ],
   "source": [
    "dfpop = df2.loc[0].copy()\n",
    "dfpop\n",
    "'''\n",
    "Now, taking the amount of donations from the 'waiting list' data set, and then dividing the number of 'All Organs' transplanted\n",
    "to see the supply and demand \n",
    "'''\n",
    "\n",
    "#dfpop.drop([1,2,3,4,5,6]);\n",
    "dfpop.replace({846715: 413435/846715, 527189: 290985/527189, 161473: 53737/161473, 108120: 51674/108120, 35743: 10588/35743}, inplace = True);\n",
    "dfpop.replace({})\n",
    "# Dividing all columns by 'All Ethnicities' to proportion against the overall supply and demand\n",
    "dfpop['All Ethnicities'] = dfpop['All Ethnicities']/dfpop['All Ethnicities']\n",
    "dfpop['White'] = dfpop['White']/dfpop['All Ethnicities']\n",
    "dfpop['Black'] = dfpop['Black']/dfpop['All Ethnicities']\n",
    "dfpop['Hispanic'] = dfpop['Hispanic']/dfpop['All Ethnicities']\n",
    "dfpop['Asian'] = dfpop['Asian']/dfpop['All Ethnicities']\n",
    "dfpop"
   ]
  },
  {
   "cell_type": "markdown",
   "id": "seven-arbor",
   "metadata": {},
   "source": [
    "# Bar Graph representing the overall transplant rate in proportion to the waiting list by ethnicity"
   ]
  },
  {
   "cell_type": "code",
   "execution_count": 444,
   "id": "atomic-chapter",
   "metadata": {},
   "outputs": [
    {
     "ename": "TypeError",
     "evalue": "no numeric data to plot",
     "output_type": "error",
     "traceback": [
      "\u001b[0;31m---------------------------------------------------------------------------\u001b[0m",
      "\u001b[0;31mTypeError\u001b[0m                                 Traceback (most recent call last)",
      "\u001b[0;32m<ipython-input-444-615176485520>\u001b[0m in \u001b[0;36m<module>\u001b[0;34m\u001b[0m\n\u001b[1;32m      1\u001b[0m \u001b[0msns\u001b[0m\u001b[0;34m.\u001b[0m\u001b[0mset_theme\u001b[0m\u001b[0;34m(\u001b[0m\u001b[0mstyle\u001b[0m\u001b[0;34m=\u001b[0m\u001b[0;34m\"darkgrid\"\u001b[0m\u001b[0;34m)\u001b[0m\u001b[0;34m\u001b[0m\u001b[0;34m\u001b[0m\u001b[0m\n\u001b[0;32m----> 2\u001b[0;31m \u001b[0max\u001b[0m \u001b[0;34m=\u001b[0m \u001b[0mdfpop\u001b[0m\u001b[0;34m.\u001b[0m\u001b[0mT\u001b[0m\u001b[0;34m.\u001b[0m\u001b[0mplot\u001b[0m\u001b[0;34m(\u001b[0m\u001b[0mkind\u001b[0m \u001b[0;34m=\u001b[0m \u001b[0;34m'bar'\u001b[0m\u001b[0;34m)\u001b[0m\u001b[0;34m;\u001b[0m\u001b[0;34m\u001b[0m\u001b[0;34m\u001b[0m\u001b[0m\n\u001b[0m\u001b[1;32m      3\u001b[0m \u001b[0mplt\u001b[0m\u001b[0;34m.\u001b[0m\u001b[0mlegend\u001b[0m\u001b[0;34m(\u001b[0m\u001b[0mloc\u001b[0m\u001b[0;34m=\u001b[0m\u001b[0;34m'upper right'\u001b[0m\u001b[0;34m)\u001b[0m\u001b[0;34m\u001b[0m\u001b[0;34m\u001b[0m\u001b[0m\n\u001b[1;32m      4\u001b[0m \u001b[0max\u001b[0m\u001b[0;34m.\u001b[0m\u001b[0mset\u001b[0m\u001b[0;34m(\u001b[0m\u001b[0mxlabel\u001b[0m\u001b[0;34m=\u001b[0m\u001b[0;34m\"Ethnicity\"\u001b[0m\u001b[0;34m,\u001b[0m \u001b[0mylabel\u001b[0m \u001b[0;34m=\u001b[0m \u001b[0;34m\"Transplants Recieved\"\u001b[0m\u001b[0;34m,\u001b[0m \u001b[0mtitle\u001b[0m \u001b[0;34m=\u001b[0m \u001b[0;34m'Transplant Rate Proportioned to Overall Donations by Ethnicity'\u001b[0m\u001b[0;34m)\u001b[0m\u001b[0;34m;\u001b[0m\u001b[0;34m\u001b[0m\u001b[0;34m\u001b[0m\u001b[0m\n",
      "\u001b[0;32m/Library/Frameworks/Python.framework/Versions/3.9/lib/python3.9/site-packages/pandas/plotting/_core.py\u001b[0m in \u001b[0;36m__call__\u001b[0;34m(self, *args, **kwargs)\u001b[0m\n\u001b[1;32m    953\u001b[0m                     \u001b[0mdata\u001b[0m\u001b[0;34m.\u001b[0m\u001b[0mcolumns\u001b[0m \u001b[0;34m=\u001b[0m \u001b[0mlabel_name\u001b[0m\u001b[0;34m\u001b[0m\u001b[0;34m\u001b[0m\u001b[0m\n\u001b[1;32m    954\u001b[0m \u001b[0;34m\u001b[0m\u001b[0m\n\u001b[0;32m--> 955\u001b[0;31m         \u001b[0;32mreturn\u001b[0m \u001b[0mplot_backend\u001b[0m\u001b[0;34m.\u001b[0m\u001b[0mplot\u001b[0m\u001b[0;34m(\u001b[0m\u001b[0mdata\u001b[0m\u001b[0;34m,\u001b[0m \u001b[0mkind\u001b[0m\u001b[0;34m=\u001b[0m\u001b[0mkind\u001b[0m\u001b[0;34m,\u001b[0m \u001b[0;34m**\u001b[0m\u001b[0mkwargs\u001b[0m\u001b[0;34m)\u001b[0m\u001b[0;34m\u001b[0m\u001b[0;34m\u001b[0m\u001b[0m\n\u001b[0m\u001b[1;32m    956\u001b[0m \u001b[0;34m\u001b[0m\u001b[0m\n\u001b[1;32m    957\u001b[0m     \u001b[0m__call__\u001b[0m\u001b[0;34m.\u001b[0m\u001b[0m__doc__\u001b[0m \u001b[0;34m=\u001b[0m \u001b[0m__doc__\u001b[0m\u001b[0;34m\u001b[0m\u001b[0;34m\u001b[0m\u001b[0m\n",
      "\u001b[0;32m/Library/Frameworks/Python.framework/Versions/3.9/lib/python3.9/site-packages/pandas/plotting/_matplotlib/__init__.py\u001b[0m in \u001b[0;36mplot\u001b[0;34m(data, kind, **kwargs)\u001b[0m\n\u001b[1;32m     59\u001b[0m             \u001b[0mkwargs\u001b[0m\u001b[0;34m[\u001b[0m\u001b[0;34m\"ax\"\u001b[0m\u001b[0;34m]\u001b[0m \u001b[0;34m=\u001b[0m \u001b[0mgetattr\u001b[0m\u001b[0;34m(\u001b[0m\u001b[0max\u001b[0m\u001b[0;34m,\u001b[0m \u001b[0;34m\"left_ax\"\u001b[0m\u001b[0;34m,\u001b[0m \u001b[0max\u001b[0m\u001b[0;34m)\u001b[0m\u001b[0;34m\u001b[0m\u001b[0;34m\u001b[0m\u001b[0m\n\u001b[1;32m     60\u001b[0m     \u001b[0mplot_obj\u001b[0m \u001b[0;34m=\u001b[0m \u001b[0mPLOT_CLASSES\u001b[0m\u001b[0;34m[\u001b[0m\u001b[0mkind\u001b[0m\u001b[0;34m]\u001b[0m\u001b[0;34m(\u001b[0m\u001b[0mdata\u001b[0m\u001b[0;34m,\u001b[0m \u001b[0;34m**\u001b[0m\u001b[0mkwargs\u001b[0m\u001b[0;34m)\u001b[0m\u001b[0;34m\u001b[0m\u001b[0;34m\u001b[0m\u001b[0m\n\u001b[0;32m---> 61\u001b[0;31m     \u001b[0mplot_obj\u001b[0m\u001b[0;34m.\u001b[0m\u001b[0mgenerate\u001b[0m\u001b[0;34m(\u001b[0m\u001b[0;34m)\u001b[0m\u001b[0;34m\u001b[0m\u001b[0;34m\u001b[0m\u001b[0m\n\u001b[0m\u001b[1;32m     62\u001b[0m     \u001b[0mplot_obj\u001b[0m\u001b[0;34m.\u001b[0m\u001b[0mdraw\u001b[0m\u001b[0;34m(\u001b[0m\u001b[0;34m)\u001b[0m\u001b[0;34m\u001b[0m\u001b[0;34m\u001b[0m\u001b[0m\n\u001b[1;32m     63\u001b[0m     \u001b[0;32mreturn\u001b[0m \u001b[0mplot_obj\u001b[0m\u001b[0;34m.\u001b[0m\u001b[0mresult\u001b[0m\u001b[0;34m\u001b[0m\u001b[0;34m\u001b[0m\u001b[0m\n",
      "\u001b[0;32m/Library/Frameworks/Python.framework/Versions/3.9/lib/python3.9/site-packages/pandas/plotting/_matplotlib/core.py\u001b[0m in \u001b[0;36mgenerate\u001b[0;34m(self)\u001b[0m\n\u001b[1;32m    276\u001b[0m     \u001b[0;32mdef\u001b[0m \u001b[0mgenerate\u001b[0m\u001b[0;34m(\u001b[0m\u001b[0mself\u001b[0m\u001b[0;34m)\u001b[0m\u001b[0;34m:\u001b[0m\u001b[0;34m\u001b[0m\u001b[0;34m\u001b[0m\u001b[0m\n\u001b[1;32m    277\u001b[0m         \u001b[0mself\u001b[0m\u001b[0;34m.\u001b[0m\u001b[0m_args_adjust\u001b[0m\u001b[0;34m(\u001b[0m\u001b[0;34m)\u001b[0m\u001b[0;34m\u001b[0m\u001b[0;34m\u001b[0m\u001b[0m\n\u001b[0;32m--> 278\u001b[0;31m         \u001b[0mself\u001b[0m\u001b[0;34m.\u001b[0m\u001b[0m_compute_plot_data\u001b[0m\u001b[0;34m(\u001b[0m\u001b[0;34m)\u001b[0m\u001b[0;34m\u001b[0m\u001b[0;34m\u001b[0m\u001b[0m\n\u001b[0m\u001b[1;32m    279\u001b[0m         \u001b[0mself\u001b[0m\u001b[0;34m.\u001b[0m\u001b[0m_setup_subplots\u001b[0m\u001b[0;34m(\u001b[0m\u001b[0;34m)\u001b[0m\u001b[0;34m\u001b[0m\u001b[0;34m\u001b[0m\u001b[0m\n\u001b[1;32m    280\u001b[0m         \u001b[0mself\u001b[0m\u001b[0;34m.\u001b[0m\u001b[0m_make_plot\u001b[0m\u001b[0;34m(\u001b[0m\u001b[0;34m)\u001b[0m\u001b[0;34m\u001b[0m\u001b[0;34m\u001b[0m\u001b[0m\n",
      "\u001b[0;32m/Library/Frameworks/Python.framework/Versions/3.9/lib/python3.9/site-packages/pandas/plotting/_matplotlib/core.py\u001b[0m in \u001b[0;36m_compute_plot_data\u001b[0;34m(self)\u001b[0m\n\u001b[1;32m    439\u001b[0m         \u001b[0;31m# no non-numeric frames or series allowed\u001b[0m\u001b[0;34m\u001b[0m\u001b[0;34m\u001b[0m\u001b[0;34m\u001b[0m\u001b[0m\n\u001b[1;32m    440\u001b[0m         \u001b[0;32mif\u001b[0m \u001b[0mis_empty\u001b[0m\u001b[0;34m:\u001b[0m\u001b[0;34m\u001b[0m\u001b[0;34m\u001b[0m\u001b[0m\n\u001b[0;32m--> 441\u001b[0;31m             \u001b[0;32mraise\u001b[0m \u001b[0mTypeError\u001b[0m\u001b[0;34m(\u001b[0m\u001b[0;34m\"no numeric data to plot\"\u001b[0m\u001b[0;34m)\u001b[0m\u001b[0;34m\u001b[0m\u001b[0;34m\u001b[0m\u001b[0m\n\u001b[0m\u001b[1;32m    442\u001b[0m \u001b[0;34m\u001b[0m\u001b[0m\n\u001b[1;32m    443\u001b[0m         \u001b[0mself\u001b[0m\u001b[0;34m.\u001b[0m\u001b[0mdata\u001b[0m \u001b[0;34m=\u001b[0m \u001b[0mnumeric_data\u001b[0m\u001b[0;34m.\u001b[0m\u001b[0mapply\u001b[0m\u001b[0;34m(\u001b[0m\u001b[0mself\u001b[0m\u001b[0;34m.\u001b[0m\u001b[0m_convert_to_ndarray\u001b[0m\u001b[0;34m)\u001b[0m\u001b[0;34m\u001b[0m\u001b[0;34m\u001b[0m\u001b[0m\n",
      "\u001b[0;31mTypeError\u001b[0m: no numeric data to plot"
     ]
    }
   ],
   "source": [
    "sns.set_theme(style=\"darkgrid\")\n",
    "ax = dfpop.T.plot(kind = 'bar');\n",
    "plt.legend(loc='upper right')\n",
    "ax.set(xlabel=\"Ethnicity\", ylabel = \"Transplants Recieved\", title = 'Transplant Rate Proportioned to Overall Donations by Ethnicity');"
   ]
  },
  {
   "cell_type": "code",
   "execution_count": 431,
   "id": "collected-efficiency",
   "metadata": {},
   "outputs": [
    {
     "data": {
      "text/html": [
       "<div>\n",
       "<style scoped>\n",
       "    .dataframe tbody tr th:only-of-type {\n",
       "        vertical-align: middle;\n",
       "    }\n",
       "\n",
       "    .dataframe tbody tr th {\n",
       "        vertical-align: top;\n",
       "    }\n",
       "\n",
       "    .dataframe thead th {\n",
       "        text-align: right;\n",
       "    }\n",
       "</style>\n",
       "<table border=\"1\" class=\"dataframe\">\n",
       "  <thead>\n",
       "    <tr style=\"text-align: right;\">\n",
       "      <th></th>\n",
       "      <th>Organ</th>\n",
       "      <th>All Ethnicities</th>\n",
       "      <th>White</th>\n",
       "      <th>Black</th>\n",
       "      <th>Hispanic</th>\n",
       "      <th>Asian</th>\n",
       "    </tr>\n",
       "  </thead>\n",
       "  <tbody>\n",
       "    <tr>\n",
       "      <th>0</th>\n",
       "      <td>All Organs</td>\n",
       "      <td>1.0</td>\n",
       "      <td>0.726895</td>\n",
       "      <td>2.698317</td>\n",
       "      <td>3.793111</td>\n",
       "      <td>7.661013</td>\n",
       "    </tr>\n",
       "    <tr>\n",
       "      <th>1</th>\n",
       "      <td>Kidney</td>\n",
       "      <td>1.0</td>\n",
       "      <td>357439.859526</td>\n",
       "      <td>985613.513514</td>\n",
       "      <td>561642.857143</td>\n",
       "      <td>646086.206897</td>\n",
       "    </tr>\n",
       "    <tr>\n",
       "      <th>2</th>\n",
       "      <td>Liver</td>\n",
       "      <td>1.0</td>\n",
       "      <td>174152.765584</td>\n",
       "      <td>138478.378378</td>\n",
       "      <td>196214.285714</td>\n",
       "      <td>193344.827586</td>\n",
       "    </tr>\n",
       "    <tr>\n",
       "      <th>3</th>\n",
       "      <td>Pancreas</td>\n",
       "      <td>1.0</td>\n",
       "      <td>10169.446883</td>\n",
       "      <td>5432.432432</td>\n",
       "      <td>4238.095238</td>\n",
       "      <td>1551.724138</td>\n",
       "    </tr>\n",
       "    <tr>\n",
       "      <th>4</th>\n",
       "      <td>Kidney / Pancreas</td>\n",
       "      <td>1.0</td>\n",
       "      <td>24429.323968</td>\n",
       "      <td>33583.783784</td>\n",
       "      <td>18396.825397</td>\n",
       "      <td>9517.241379</td>\n",
       "    </tr>\n",
       "    <tr>\n",
       "      <th>5</th>\n",
       "      <td>Heart</td>\n",
       "      <td>1.0</td>\n",
       "      <td>75242.317823</td>\n",
       "      <td>111891.891892</td>\n",
       "      <td>51222.222222</td>\n",
       "      <td>53431.034483</td>\n",
       "    </tr>\n",
       "    <tr>\n",
       "      <th>6</th>\n",
       "      <td>Lung</td>\n",
       "      <td>1.0</td>\n",
       "      <td>48532.045654</td>\n",
       "      <td>29059.459459</td>\n",
       "      <td>22055.555556</td>\n",
       "      <td>17637.931034</td>\n",
       "    </tr>\n",
       "  </tbody>\n",
       "</table>\n",
       "</div>"
      ],
      "text/plain": [
       "               Organ  All Ethnicities          White          Black  \\\n",
       "0         All Organs              1.0       0.726895       2.698317   \n",
       "1             Kidney              1.0  357439.859526  985613.513514   \n",
       "2              Liver              1.0  174152.765584  138478.378378   \n",
       "3           Pancreas              1.0   10169.446883    5432.432432   \n",
       "4  Kidney / Pancreas              1.0   24429.323968   33583.783784   \n",
       "5              Heart              1.0   75242.317823  111891.891892   \n",
       "6               Lung              1.0   48532.045654   29059.459459   \n",
       "\n",
       "        Hispanic          Asian  \n",
       "0       3.793111       7.661013  \n",
       "1  561642.857143  646086.206897  \n",
       "2  196214.285714  193344.827586  \n",
       "3    4238.095238    1551.724138  \n",
       "4   18396.825397    9517.241379  \n",
       "5   51222.222222   53431.034483  \n",
       "6   22055.555556   17637.931034  "
      ]
     },
     "execution_count": 431,
     "metadata": {},
     "output_type": "execute_result"
    }
   ],
   "source": [
    "'''\n",
    "Normalizing the data to the each respective Ethnicity's population by taking the proportions of \n",
    "overall donations/waitinglist and dividing that by ethnicity population. The closer to 1, the more representation.\n",
    "\n",
    "'''\n",
    "dfpop2 = dfpop.copy()\n",
    "dfpop2\n",
    "dfpop2['White'] = dfpop2['White']/0.7593333333333333\n",
    "dfpop2['Black'] = dfpop2['Black']/0.12333333333333334\n",
    "dfpop2['Hispanic'] = dfpop2['Hispanic']/0.126\n",
    "dfpop2['Asian'] = dfpop2['Asian']/0.03866666666666667\n",
    "dfpop2"
   ]
  },
  {
   "cell_type": "code",
   "execution_count": 435,
   "id": "continental-morris",
   "metadata": {
    "scrolled": true
   },
   "outputs": [
    {
     "data": {
      "image/png": "[encoded data removed]",
      "text/plain": [
       "<Figure size 432x288 with 1 Axes>"
      ]
     },
     "metadata": {},
     "output_type": "display_data"
    }
   ],
   "source": [
    "sns.set_theme(style=\"darkgrid\")\n",
    "ax = dfpop2['White'].T.plot(kind = 'bar');\n",
    "plt.legend(loc='upper right')\n",
    "ax.set(xlabel=\"Ethnicity\", ylabel = \"Transplants Recieved\", title = 'Transplant Rate Proportioned to Overall Donations by Ethnicity');"
   ]
  },
  {
   "cell_type": "code",
   "execution_count": 413,
   "id": "reported-dakota",
   "metadata": {
    "scrolled": true
   },
   "outputs": [
    {
     "data": {
      "text/html": [
       "<div>\n",
       "<style scoped>\n",
       "    .dataframe tbody tr th:only-of-type {\n",
       "        vertical-align: middle;\n",
       "    }\n",
       "\n",
       "    .dataframe tbody tr th {\n",
       "        vertical-align: top;\n",
       "    }\n",
       "\n",
       "    .dataframe thead th {\n",
       "        text-align: right;\n",
       "    }\n",
       "</style>\n",
       "<table border=\"1\" class=\"dataframe\">\n",
       "  <thead>\n",
       "    <tr style=\"text-align: right;\">\n",
       "      <th></th>\n",
       "      <th>Organ</th>\n",
       "      <th>All Ethnicities</th>\n",
       "      <th>White</th>\n",
       "      <th>Black</th>\n",
       "      <th>Hispanic</th>\n",
       "      <th>Asian</th>\n",
       "      <th>Multiracial</th>\n",
       "    </tr>\n",
       "  </thead>\n",
       "  <tbody>\n",
       "    <tr>\n",
       "      <th>0</th>\n",
       "      <td>All Organs</td>\n",
       "      <td>846715</td>\n",
       "      <td>0.622629</td>\n",
       "      <td>0.190705</td>\n",
       "      <td>0.127693</td>\n",
       "      <td>0.042214</td>\n",
       "      <td>0.006180</td>\n",
       "    </tr>\n",
       "    <tr>\n",
       "      <th>1</th>\n",
       "      <td>Kidney</td>\n",
       "      <td>498372</td>\n",
       "      <td>0.544605</td>\n",
       "      <td>0.243912</td>\n",
       "      <td>0.141996</td>\n",
       "      <td>0.050127</td>\n",
       "      <td>0.006728</td>\n",
       "    </tr>\n",
       "    <tr>\n",
       "      <th>2</th>\n",
       "      <td>Liver</td>\n",
       "      <td>184227</td>\n",
       "      <td>0.717810</td>\n",
       "      <td>0.092706</td>\n",
       "      <td>0.134199</td>\n",
       "      <td>0.040580</td>\n",
       "      <td>0.006009</td>\n",
       "    </tr>\n",
       "    <tr>\n",
       "      <th>3</th>\n",
       "      <td>Pancreas</td>\n",
       "      <td>9067</td>\n",
       "      <td>0.851660</td>\n",
       "      <td>0.073894</td>\n",
       "      <td>0.058895</td>\n",
       "      <td>0.006617</td>\n",
       "      <td>0.002537</td>\n",
       "    </tr>\n",
       "    <tr>\n",
       "      <th>4</th>\n",
       "      <td>Kidney / Pancreas</td>\n",
       "      <td>25658</td>\n",
       "      <td>0.722971</td>\n",
       "      <td>0.161431</td>\n",
       "      <td>0.090342</td>\n",
       "      <td>0.014343</td>\n",
       "      <td>0.004170</td>\n",
       "    </tr>\n",
       "    <tr>\n",
       "      <th>5</th>\n",
       "      <td>Heart</td>\n",
       "      <td>80487</td>\n",
       "      <td>0.709854</td>\n",
       "      <td>0.171456</td>\n",
       "      <td>0.080187</td>\n",
       "      <td>0.025669</td>\n",
       "      <td>0.006026</td>\n",
       "    </tr>\n",
       "    <tr>\n",
       "      <th>6</th>\n",
       "      <td>Lung</td>\n",
       "      <td>44212</td>\n",
       "      <td>0.833529</td>\n",
       "      <td>0.081064</td>\n",
       "      <td>0.062856</td>\n",
       "      <td>0.015426</td>\n",
       "      <td>0.002918</td>\n",
       "    </tr>\n",
       "    <tr>\n",
       "      <th>7</th>\n",
       "      <td>Heart / Lung</td>\n",
       "      <td>1371</td>\n",
       "      <td>0.760759</td>\n",
       "      <td>0.097739</td>\n",
       "      <td>0.091904</td>\n",
       "      <td>0.034282</td>\n",
       "      <td>0.004376</td>\n",
       "    </tr>\n",
       "    <tr>\n",
       "      <th>8</th>\n",
       "      <td>Intestine</td>\n",
       "      <td>3210</td>\n",
       "      <td>0.679439</td>\n",
       "      <td>0.156075</td>\n",
       "      <td>0.129907</td>\n",
       "      <td>0.018692</td>\n",
       "      <td>0.006854</td>\n",
       "    </tr>\n",
       "  </tbody>\n",
       "</table>\n",
       "</div>"
      ],
      "text/plain": [
       "               Organ  All Ethnicities     White     Black  Hispanic     Asian  \\\n",
       "0         All Organs           846715  0.622629  0.190705  0.127693  0.042214   \n",
       "1             Kidney           498372  0.544605  0.243912  0.141996  0.050127   \n",
       "2              Liver           184227  0.717810  0.092706  0.134199  0.040580   \n",
       "3           Pancreas             9067  0.851660  0.073894  0.058895  0.006617   \n",
       "4  Kidney / Pancreas            25658  0.722971  0.161431  0.090342  0.014343   \n",
       "5              Heart            80487  0.709854  0.171456  0.080187  0.025669   \n",
       "6               Lung            44212  0.833529  0.081064  0.062856  0.015426   \n",
       "7       Heart / Lung             1371  0.760759  0.097739  0.091904  0.034282   \n",
       "8          Intestine             3210  0.679439  0.156075  0.129907  0.018692   \n",
       "\n",
       "   Multiracial  \n",
       "0     0.006180  \n",
       "1     0.006728  \n",
       "2     0.006009  \n",
       "3     0.002537  \n",
       "4     0.004170  \n",
       "5     0.006026  \n",
       "6     0.002918  \n",
       "7     0.004376  \n",
       "8     0.006854  "
      ]
     },
     "execution_count": 413,
     "metadata": {},
     "output_type": "execute_result"
    }
   ],
   "source": [
    "'''\n",
    "Normalizing the row data by the 'All Ethnicities' column to proportionize all of the data\n",
    "'''\n",
    "df3 = pd.DataFrame(df[0:9])\n",
    "df3['White'] = (df['White'] / df['All Ethnicities']) \n",
    "df3['Black'] = (df['Black'] / df['All Ethnicities']) \n",
    "df3['Hispanic'] = (df['Hispanic'] / df['All Ethnicities']) \n",
    "df3['Asian'] = (df['Asian'] / df['All Ethnicities'])\n",
    "df3['Multiracial'] = (df['Multiracial'] / df['All Ethnicities']) \n",
    "df3"
   ]
  },
  {
   "cell_type": "code",
   "execution_count": null,
   "id": "going-estate",
   "metadata": {},
   "outputs": [],
   "source": []
  },
  {
   "cell_type": "code",
   "execution_count": 414,
   "id": "automated-explanation",
   "metadata": {},
   "outputs": [],
   "source": [
    "'''\n",
    "Normalizing the pie chart by ethnicity population\n",
    "'''\n",
    "df3.drop(['Organ', 'All Ethnicities', 'Multiracial'], axis = 1, inplace = True)\n",
    "df4 = df3.loc[0,:]\n",
    "perc_values = df3.loc[0,:].values\n",
    "perc_values\n",
    "df4['White'] = df4['White']/0.7593333333333333\n",
    "df4['Black'] = df4['Black']/0.12333333333333334\n",
    "df4['Hispanic'] = df4['Hispanic']/0.126\n",
    "df4['Asian'] = dfallorgans['Asian']/0.03866666666666667\n"
   ]
  },
  {
   "cell_type": "markdown",
   "id": "tutorial-sender",
   "metadata": {},
   "source": [
    "# Pie chart of all ethnicities that have received transplants"
   ]
  },
  {
   "cell_type": "code",
   "execution_count": 415,
   "id": "unauthorized-killer",
   "metadata": {},
   "outputs": [
    {
     "data": {
      "image/png": "[encoded data removed]",
      "text/plain": [
       "<Figure size 432x288 with 1 Axes>"
      ]
     },
     "metadata": {},
     "output_type": "display_data"
    }
   ],
   "source": [
    "fig1, ax1 = plt.subplots()\n",
    "my_labels = ['White', 'Black', 'Hispanic', 'Asian']\n",
    "my_explode = (0, 0.2, 0, 0)\n",
    "plt.pie(perc_values, labels = my_labels, explode = my_explode, autopct='%1.0f%%', shadow = True)\n",
    "plt.legend(loc=\"lower center\", bbox_to_anchor=(0.5, -0.55), title = \"Percentage of \\nOrgan Transplants \\nby Ethnicity's Population\")\n",
    "plt.show()"
   ]
  },
  {
   "cell_type": "code",
   "execution_count": 416,
   "id": "parliamentary-hello",
   "metadata": {},
   "outputs": [
    {
     "data": {
      "text/plain": [
       "array([0.71721497, 1.97766631, 1.12695508, 1.29639347])"
      ]
     },
     "execution_count": 416,
     "metadata": {},
     "output_type": "execute_result"
    }
   ],
   "source": [
    "df3['White'] = df3['White']/0.7593333333333333\n",
    "df3['Black'] = df3['Black']/0.12333333333333334\n",
    "df3['Hispanic'] = df3['Hispanic']/0.126\n",
    "df3['Asian'] = df3['Asian']/0.03866666666666667\n",
    "kid_perc_values = df3.loc[1,:].values\n",
    "kid_perc_values\n",
    "\n"
   ]
  },
  {
   "cell_type": "markdown",
   "id": "middle-feedback",
   "metadata": {},
   "source": [
    "# Pie chart showing percentage of kidney transplants by ethnicity."
   ]
  },
  {
   "cell_type": "code",
   "execution_count": 417,
   "id": "incident-cruise",
   "metadata": {},
   "outputs": [
    {
     "data": {
      "image/png": "[encoded data removed]",
      "text/plain": [
       "<Figure size 432x288 with 1 Axes>"
      ]
     },
     "metadata": {},
     "output_type": "display_data"
    }
   ],
   "source": [
    "fig1, ax1 = plt.subplots()\n",
    "my_labels = ['White', 'Black', 'Hispanic', 'Asian']\n",
    "my_explode = (0., 0.3, 0, 0)\n",
    "plt.pie(kid_perc_values, labels = my_labels, explode = my_explode, autopct='%1.0f%%', shadow = True)\n",
    "plt.legend(loc=\"lower center\", bbox_to_anchor=(0.5, -0.55), title = 'Percentage of \\nOrgan Transplants \\nby Ethnicity')\n",
    "plt.show()"
   ]
  },
  {
   "cell_type": "markdown",
   "id": "phantom-affiliation",
   "metadata": {},
   "source": [
    "# To Do:\n",
    "\n",
    "### On the first graph, use standard deviation across the average population to give a more accurate comparison.\n",
    "### Change colors of pie chart to better represent the graph."
   ]
  },
  {
   "cell_type": "code",
   "execution_count": null,
   "id": "ambient-tuesday",
   "metadata": {},
   "outputs": [],
   "source": []
  }
 ],
 "metadata": {
  "kernelspec": {
   "display_name": "Python 3",
   "language": "python",
   "name": "python3"
  },
  "language_info": {
   "codemirror_mode": {
    "name": "ipython",
    "version": 3
   },
   "file_extension": ".py",
   "mimetype": "text/x-python",
   "name": "python",
   "nbconvert_exporter": "python",
   "pygments_lexer": "ipython3",
   "version": "3.9.1"
  }
 },
 "nbformat": 4,
 "nbformat_minor": 5
}
