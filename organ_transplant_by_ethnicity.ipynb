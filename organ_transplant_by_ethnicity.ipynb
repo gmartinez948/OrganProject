{
 "cells": [
  {
   "cell_type": "code",
   "execution_count": 536,
   "id": "motivated-mirror",
   "metadata": {},
   "outputs": [],
   "source": [
    "import pandas as pd\n",
    "import matplotlib.pyplot as plt"
   ]
  },
  {
   "cell_type": "code",
   "execution_count": 537,
   "id": "color-charter",
   "metadata": {},
   "outputs": [],
   "source": [
    "df = pd.read_csv('/Users/guillermo/Downloads/Transplant___Recipient_Ethnicity_by_Organ.csv')\n"
   ]
  },
  {
   "cell_type": "code",
   "execution_count": 538,
   "id": "therapeutic-passing",
   "metadata": {},
   "outputs": [
    {
     "data": {
      "text/plain": [
       "Organ              object\n",
       "All Ethnicities     int64\n",
       "White               int64\n",
       "Black               int64\n",
       "Hispanic            int64\n",
       "Asian               int64\n",
       "Multiracial         int64\n",
       "dtype: object"
      ]
     },
     "execution_count": 538,
     "metadata": {},
     "output_type": "execute_result"
    }
   ],
   "source": [
    "df.drop(['Unnamed: 1', 'Unknown', 'American Indian/Alaska Native', 'Pacific Islander'], axis=1, inplace = True)\n",
    "df.rename(columns={\"Unnamed: 0\": \"Organ\"}, inplace = True)\n",
    "df['White'] = df['White'].str.replace(',','').astype(int)\n",
    "df['Black'] = df['Black'].str.replace(',','').astype(int)\n",
    "df['Hispanic'] = df['Hispanic'].str.replace(',','').astype(int)\n",
    "df['Asian'] = df['Asian'].str.replace(',','').astype(int)\n",
    "df['Multiracial'] = df['Multiracial'].str.replace(',','').astype(int)\n",
    "df['All Ethnicities'] = df['All Ethnicities'].str.replace(',', '').astype(int)\n",
    "df.dtypes\n",
    "\n"
   ]
  },
  {
   "cell_type": "code",
   "execution_count": 539,
   "id": "stretch-collapse",
   "metadata": {
    "scrolled": false
   },
   "outputs": [
    {
     "name": "stderr",
     "output_type": "stream",
     "text": [
      "/Library/Frameworks/Python.framework/Versions/3.9/lib/python3.9/site-packages/pandas/core/frame.py:4308: SettingWithCopyWarning: \n",
      "A value is trying to be set on a copy of a slice from a DataFrame\n",
      "\n",
      "See the caveats in the documentation: https://pandas.pydata.org/pandas-docs/stable/user_guide/indexing.html#returning-a-view-versus-a-copy\n",
      "  return super().drop(\n"
     ]
    },
    {
     "data": {
      "text/html": [
       "<div>\n",
       "<style scoped>\n",
       "    .dataframe tbody tr th:only-of-type {\n",
       "        vertical-align: middle;\n",
       "    }\n",
       "\n",
       "    .dataframe tbody tr th {\n",
       "        vertical-align: top;\n",
       "    }\n",
       "\n",
       "    .dataframe thead th {\n",
       "        text-align: right;\n",
       "    }\n",
       "</style>\n",
       "<table border=\"1\" class=\"dataframe\">\n",
       "  <thead>\n",
       "    <tr style=\"text-align: right;\">\n",
       "      <th></th>\n",
       "      <th>Organ</th>\n",
       "      <th>White</th>\n",
       "      <th>Black</th>\n",
       "      <th>Hispanic</th>\n",
       "      <th>Asian</th>\n",
       "      <th>Multiracial</th>\n",
       "    </tr>\n",
       "  </thead>\n",
       "  <tbody>\n",
       "    <tr>\n",
       "      <th>1</th>\n",
       "      <td>Kidney</td>\n",
       "      <td>271416</td>\n",
       "      <td>121559</td>\n",
       "      <td>70767</td>\n",
       "      <td>24982</td>\n",
       "      <td>3353</td>\n",
       "    </tr>\n",
       "    <tr>\n",
       "      <th>2</th>\n",
       "      <td>Liver</td>\n",
       "      <td>132240</td>\n",
       "      <td>17079</td>\n",
       "      <td>24723</td>\n",
       "      <td>7476</td>\n",
       "      <td>1107</td>\n",
       "    </tr>\n",
       "    <tr>\n",
       "      <th>3</th>\n",
       "      <td>Pancreas</td>\n",
       "      <td>7722</td>\n",
       "      <td>670</td>\n",
       "      <td>534</td>\n",
       "      <td>60</td>\n",
       "      <td>23</td>\n",
       "    </tr>\n",
       "    <tr>\n",
       "      <th>4</th>\n",
       "      <td>Kidney / Pancreas</td>\n",
       "      <td>18550</td>\n",
       "      <td>4142</td>\n",
       "      <td>2318</td>\n",
       "      <td>368</td>\n",
       "      <td>107</td>\n",
       "    </tr>\n",
       "    <tr>\n",
       "      <th>5</th>\n",
       "      <td>Heart</td>\n",
       "      <td>57134</td>\n",
       "      <td>13800</td>\n",
       "      <td>6454</td>\n",
       "      <td>2066</td>\n",
       "      <td>485</td>\n",
       "    </tr>\n",
       "    <tr>\n",
       "      <th>6</th>\n",
       "      <td>Lung</td>\n",
       "      <td>36852</td>\n",
       "      <td>3584</td>\n",
       "      <td>2779</td>\n",
       "      <td>682</td>\n",
       "      <td>129</td>\n",
       "    </tr>\n",
       "    <tr>\n",
       "      <th>7</th>\n",
       "      <td>Heart / Lung</td>\n",
       "      <td>1043</td>\n",
       "      <td>134</td>\n",
       "      <td>126</td>\n",
       "      <td>47</td>\n",
       "      <td>6</td>\n",
       "    </tr>\n",
       "    <tr>\n",
       "      <th>8</th>\n",
       "      <td>Intestine</td>\n",
       "      <td>2181</td>\n",
       "      <td>501</td>\n",
       "      <td>417</td>\n",
       "      <td>60</td>\n",
       "      <td>22</td>\n",
       "    </tr>\n",
       "  </tbody>\n",
       "</table>\n",
       "</div>"
      ],
      "text/plain": [
       "               Organ   White   Black  Hispanic  Asian  Multiracial\n",
       "1             Kidney  271416  121559     70767  24982         3353\n",
       "2              Liver  132240   17079     24723   7476         1107\n",
       "3           Pancreas    7722     670       534     60           23\n",
       "4  Kidney / Pancreas   18550    4142      2318    368          107\n",
       "5              Heart   57134   13800      6454   2066          485\n",
       "6               Lung   36852    3584      2779    682          129\n",
       "7       Heart / Lung    1043     134       126     47            6\n",
       "8          Intestine    2181     501       417     60           22"
      ]
     },
     "execution_count": 539,
     "metadata": {},
     "output_type": "execute_result"
    }
   ],
   "source": [
    "df2 = df[1:9]\n",
    "df2.drop(['All Ethnicities'], axis=1, inplace = True)\n",
    "df2"
   ]
  },
  {
   "cell_type": "code",
   "execution_count": null,
   "id": "automotive-allocation",
   "metadata": {},
   "outputs": [],
   "source": []
  },
  {
   "cell_type": "code",
   "execution_count": 540,
   "id": "requested-experiment",
   "metadata": {},
   "outputs": [
    {
     "data": {
      "text/plain": [
       "<AxesSubplot:xlabel='Organ'>"
      ]
     },
     "execution_count": 540,
     "metadata": {},
     "output_type": "execute_result"
    },
    {
     "data": {
      "image/png": "[encoded data removed]",
      "text/plain": [
       "<Figure size 432x288 with 1 Axes>"
      ]
     },
     "metadata": {
      "needs_background": "light"
     },
     "output_type": "display_data"
    },
    {
     "data": {
      "text/plain": [
       "<Figure size 720x720 with 0 Axes>"
      ]
     },
     "metadata": {},
     "output_type": "display_data"
    }
   ],
   "source": [
    "fig1, ax = plt.subplots()\n",
    "df2.plot.bar(x = 'Organ', ax = ax)\n",
    "plt.figure(figsize=(10, 10))\n",
    "\n"
   ]
  },
  {
   "cell_type": "code",
   "execution_count": 541,
   "id": "reported-dakota",
   "metadata": {
    "scrolled": true
   },
   "outputs": [
    {
     "data": {
      "text/html": [
       "<div>\n",
       "<style scoped>\n",
       "    .dataframe tbody tr th:only-of-type {\n",
       "        vertical-align: middle;\n",
       "    }\n",
       "\n",
       "    .dataframe tbody tr th {\n",
       "        vertical-align: top;\n",
       "    }\n",
       "\n",
       "    .dataframe thead th {\n",
       "        text-align: right;\n",
       "    }\n",
       "</style>\n",
       "<table border=\"1\" class=\"dataframe\">\n",
       "  <thead>\n",
       "    <tr style=\"text-align: right;\">\n",
       "      <th></th>\n",
       "      <th>Organ</th>\n",
       "      <th>All Ethnicities</th>\n",
       "      <th>White</th>\n",
       "      <th>Black</th>\n",
       "      <th>Hispanic</th>\n",
       "      <th>Asian</th>\n",
       "      <th>Multiracial</th>\n",
       "    </tr>\n",
       "  </thead>\n",
       "  <tbody>\n",
       "    <tr>\n",
       "      <th>0</th>\n",
       "      <td>All Organs</td>\n",
       "      <td>846715</td>\n",
       "      <td>62.262863</td>\n",
       "      <td>19.070526</td>\n",
       "      <td>12.769350</td>\n",
       "      <td>4.221373</td>\n",
       "      <td>0.618036</td>\n",
       "    </tr>\n",
       "    <tr>\n",
       "      <th>1</th>\n",
       "      <td>Kidney</td>\n",
       "      <td>498372</td>\n",
       "      <td>54.460523</td>\n",
       "      <td>24.391218</td>\n",
       "      <td>14.199634</td>\n",
       "      <td>5.012721</td>\n",
       "      <td>0.672791</td>\n",
       "    </tr>\n",
       "    <tr>\n",
       "      <th>2</th>\n",
       "      <td>Liver</td>\n",
       "      <td>184227</td>\n",
       "      <td>71.781009</td>\n",
       "      <td>9.270628</td>\n",
       "      <td>13.419857</td>\n",
       "      <td>4.058037</td>\n",
       "      <td>0.600889</td>\n",
       "    </tr>\n",
       "    <tr>\n",
       "      <th>3</th>\n",
       "      <td>Pancreas</td>\n",
       "      <td>9067</td>\n",
       "      <td>85.165987</td>\n",
       "      <td>7.389434</td>\n",
       "      <td>5.889489</td>\n",
       "      <td>0.661740</td>\n",
       "      <td>0.253667</td>\n",
       "    </tr>\n",
       "    <tr>\n",
       "      <th>4</th>\n",
       "      <td>Kidney / Pancreas</td>\n",
       "      <td>25658</td>\n",
       "      <td>72.297139</td>\n",
       "      <td>16.143113</td>\n",
       "      <td>9.034219</td>\n",
       "      <td>1.434251</td>\n",
       "      <td>0.417024</td>\n",
       "    </tr>\n",
       "    <tr>\n",
       "      <th>5</th>\n",
       "      <td>Heart</td>\n",
       "      <td>80487</td>\n",
       "      <td>70.985377</td>\n",
       "      <td>17.145626</td>\n",
       "      <td>8.018686</td>\n",
       "      <td>2.566874</td>\n",
       "      <td>0.602582</td>\n",
       "    </tr>\n",
       "    <tr>\n",
       "      <th>6</th>\n",
       "      <td>Lung</td>\n",
       "      <td>44212</td>\n",
       "      <td>83.352936</td>\n",
       "      <td>8.106396</td>\n",
       "      <td>6.285624</td>\n",
       "      <td>1.542568</td>\n",
       "      <td>0.291776</td>\n",
       "    </tr>\n",
       "    <tr>\n",
       "      <th>7</th>\n",
       "      <td>Heart / Lung</td>\n",
       "      <td>1371</td>\n",
       "      <td>76.075857</td>\n",
       "      <td>9.773888</td>\n",
       "      <td>9.190372</td>\n",
       "      <td>3.428155</td>\n",
       "      <td>0.437637</td>\n",
       "    </tr>\n",
       "    <tr>\n",
       "      <th>8</th>\n",
       "      <td>Intestine</td>\n",
       "      <td>3210</td>\n",
       "      <td>67.943925</td>\n",
       "      <td>15.607477</td>\n",
       "      <td>12.990654</td>\n",
       "      <td>1.869159</td>\n",
       "      <td>0.685358</td>\n",
       "    </tr>\n",
       "  </tbody>\n",
       "</table>\n",
       "</div>"
      ],
      "text/plain": [
       "               Organ  All Ethnicities      White      Black   Hispanic  \\\n",
       "0         All Organs           846715  62.262863  19.070526  12.769350   \n",
       "1             Kidney           498372  54.460523  24.391218  14.199634   \n",
       "2              Liver           184227  71.781009   9.270628  13.419857   \n",
       "3           Pancreas             9067  85.165987   7.389434   5.889489   \n",
       "4  Kidney / Pancreas            25658  72.297139  16.143113   9.034219   \n",
       "5              Heart            80487  70.985377  17.145626   8.018686   \n",
       "6               Lung            44212  83.352936   8.106396   6.285624   \n",
       "7       Heart / Lung             1371  76.075857   9.773888   9.190372   \n",
       "8          Intestine             3210  67.943925  15.607477  12.990654   \n",
       "\n",
       "      Asian  Multiracial  \n",
       "0  4.221373     0.618036  \n",
       "1  5.012721     0.672791  \n",
       "2  4.058037     0.600889  \n",
       "3  0.661740     0.253667  \n",
       "4  1.434251     0.417024  \n",
       "5  2.566874     0.602582  \n",
       "6  1.542568     0.291776  \n",
       "7  3.428155     0.437637  \n",
       "8  1.869159     0.685358  "
      ]
     },
     "execution_count": 541,
     "metadata": {},
     "output_type": "execute_result"
    }
   ],
   "source": [
    "df3 = pd.DataFrame(df[0:9])\n",
    "df3['White'] = (df['White'] / df['All Ethnicities']) * 100\n",
    "df3['Black'] = (df['Black'] / df['All Ethnicities']) * 100\n",
    "df3['Hispanic'] = (df['Hispanic'] / df['All Ethnicities']) * 100\n",
    "df3['Asian'] = (df['Asian'] / df['All Ethnicities']) * 100\n",
    "df3['Multiracial'] = (df['Multiracial'] / df['All Ethnicities']) * 100\n",
    "df3\n",
    "\n"
   ]
  },
  {
   "cell_type": "code",
   "execution_count": 542,
   "id": "automated-explanation",
   "metadata": {},
   "outputs": [
    {
     "data": {
      "text/plain": [
       "array([62.26286295, 19.0705255 , 12.76934978,  4.22137319,  0.61803558])"
      ]
     },
     "execution_count": 542,
     "metadata": {},
     "output_type": "execute_result"
    }
   ],
   "source": [
    "df3.drop(['Organ', 'All Ethnicities'], axis = 1, inplace = True)\n",
    "df4 = df3.loc[0,:]\n",
    "perc_values = df3.loc[0,:].values\n",
    "perc_values"
   ]
  },
  {
   "cell_type": "code",
   "execution_count": 543,
   "id": "unauthorized-killer",
   "metadata": {},
   "outputs": [
    {
     "data": {
      "image/png": "[encoded data removed]",
      "text/plain": [
       "<Figure size 432x288 with 1 Axes>"
      ]
     },
     "metadata": {},
     "output_type": "display_data"
    }
   ],
   "source": [
    "fig1, ax1 = plt.subplots()\n",
    "my_labels = ['White', 'Black', 'Hispanic', 'Asian', 'Multiracial']\n",
    "my_explode = (0.2, 0, 0, 0, 0)\n",
    "plt.pie(perc_values, labels = my_labels, explode = my_explode, shadow = True)\n",
    "plt.legend(loc=\"lower center\", bbox_to_anchor=(0.5, -0.55), title = 'Percentage of \\nOrgan Transplants \\nby Ethnicity')\n",
    "plt.show()"
   ]
  }
 ],
 "metadata": {
  "kernelspec": {
   "display_name": "Python 3",
   "language": "python",
   "name": "python3"
  },
  "language_info": {
   "codemirror_mode": {
    "name": "ipython",
    "version": 3
   },
   "file_extension": ".py",
   "mimetype": "text/x-python",
   "name": "python",
   "nbconvert_exporter": "python",
   "pygments_lexer": "ipython3",
   "version": "3.9.1"
  }
 },
 "nbformat": 4,
 "nbformat_minor": 5
}
